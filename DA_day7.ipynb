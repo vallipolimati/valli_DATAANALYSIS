{
  "cells": [
    {
      "cell_type": "markdown",
      "metadata": {
        "id": "SJGk2LW-7_M5"
      },
      "source": [
        "Project"
      ]
    },
    {
      "cell_type": "code",
      "execution_count": null,
      "metadata": {
        "id": "dI4Q-Zni8F79"
      },
      "outputs": [],
      "source": [
        "import tensorflow as tf\n",
        "from tensorflow import keras\n",
        "from tensorflow.keras import layers\n",
        "from tensorflow.keras.preprocessing.image import ImageDataGenerator\n",
        "#define image size and batch size\n",
        "IMG_SIZE=224\n",
        "BATCH_SIZE=32"
      ]
    },
    {
      "cell_type": "code",
      "execution_count": null,
      "metadata": {
        "colab": {
          "base_uri": "https://localhost:8080/"
        },
        "id": "ewDPMM8u8686",
        "outputId": "291bf934-a106-4b1a-a923-f7546158dd65"
      },
      "outputs": [
        {
          "name": "stdout",
          "output_type": "stream",
          "text": [
            "Found 1912 images belonging to 2 classes.\n",
            "Found 478 images belonging to 2 classes.\n",
            "Found 60 images belonging to 1 classes.\n"
          ]
        }
      ],
      "source": [
        "#define data generators for train ,validation and test sets\n",
        "train_datagen=ImageDataGenerator(\n",
        "    rescale=1./225,\n",
        "    validation_split=0.2\n",
        ")\n",
        "train_generator=train_datagen.flow_from_directory(\n",
        "  '/content/drive/MyDrive/Brain_Tumor_Detection/Brain_Tumor_Detection/train',\n",
        "    target_size=(IMG_SIZE,IMG_SIZE),\n",
        "    batch_size=BATCH_SIZE,\n",
        "    class_mode='binary',\n",
        "    subset='training'\n",
        ")\n",
        "val_generator=train_datagen.flow_from_directory(\n",
        "  '/content/drive/MyDrive/Brain_Tumor_Detection/Brain_Tumor_Detection/train',\n",
        "    target_size=(IMG_SIZE,IMG_SIZE),\n",
        "    batch_size=BATCH_SIZE,\n",
        "    class_mode='binary',\n",
        "    subset='validation'\n",
        ")\n",
        "test_datagen=ImageDataGenerator(rescale=1./225)\n",
        "test_generator=test_datagen.flow_from_directory(\n",
        "  '/content/drive/MyDrive/Brain_Tumor_Detection/Brain_Tumor_Detection/test',\n",
        "    target_size=(IMG_SIZE,IMG_SIZE),\n",
        "    batch_size=BATCH_SIZE,\n",
        "    class_mode='binary'\n",
        ")\n"
      ]
    },
    {
      "cell_type": "code",
      "execution_count": null,
      "metadata": {
        "colab": {
          "base_uri": "https://localhost:8080/"
        },
        "id": "wuFYEhfOhvem",
        "outputId": "e6cab3af-3c23-464a-a2d4-5492c61eca23"
      },
      "outputs": [
        {
          "name": "stdout",
          "output_type": "stream",
          "text": [
            "Drive already mounted at /content/drive; to attempt to forcibly remount, call drive.mount(\"/content/drive\", force_remount=True).\n"
          ]
        }
      ],
      "source": [
        "from google.colab import drive\n",
        "drive.mount('/content/drive')"
      ]
    },
    {
      "cell_type": "code",
      "execution_count": null,
      "metadata": {
        "id": "ZV1Tfez2k4H2"
      },
      "outputs": [],
      "source": [
        "#define the model\n",
        "model=keras.Sequential([\n",
        "     layers.Conv2D(32,(3,3),activation='relu',input_shape=(IMG_SIZE,IMG_SIZE,3)),\n",
        "     layers.MaxPooling2D((2,2)),\n",
        "     layers.Conv2D(64,(3,3),activation='relu'),\n",
        "     layers.MaxPooling2D((2,2)),\n",
        "     layers.Conv2D(128,(3,3),activation='relu'),\n",
        "     layers.MaxPooling2D((2,2)),\n",
        "     layers.Flatten(), #preprocesser\n",
        "     layers.Dense(128,activation='relu'),\n",
        "     layers.Dense(1,activation='sigmoid')\n",
        "])"
      ]
    },
    {
      "cell_type": "code",
      "execution_count": null,
      "metadata": {
        "id": "vY2ELiUwnC6u"
      },
      "outputs": [],
      "source": [
        "#creating the model\n",
        "model.compile(optimizer='adam',loss='binary_crossentropy',metrics=['accuracy'])"
      ]
    },
    {
      "cell_type": "code",
      "execution_count": null,
      "metadata": {
        "colab": {
          "base_uri": "https://localhost:8080/"
        },
        "id": "4BKwoUWsnvTA",
        "outputId": "6c3908bf-7a2d-4c08-e630-c2fcded6af03"
      },
      "outputs": [
        {
          "name": "stdout",
          "output_type": "stream",
          "text": [
            "Epoch 1/5\n",
            "60/60 [==============================] - 486s 8s/step - loss: 0.5894 - accuracy: 0.7835 - val_loss: 0.3201 - val_accuracy: 0.8682\n",
            "Epoch 2/5\n",
            "60/60 [==============================] - 243s 4s/step - loss: 0.2533 - accuracy: 0.9090 - val_loss: 0.2135 - val_accuracy: 0.9268\n",
            "Epoch 3/5\n",
            "60/60 [==============================] - 243s 4s/step - loss: 0.1428 - accuracy: 0.9529 - val_loss: 0.0878 - val_accuracy: 0.9707\n",
            "Epoch 4/5\n",
            "60/60 [==============================] - 234s 4s/step - loss: 0.0686 - accuracy: 0.9796 - val_loss: 0.0739 - val_accuracy: 0.9791\n",
            "Epoch 5/5\n",
            "60/60 [==============================] - 261s 4s/step - loss: 0.0514 - accuracy: 0.9838 - val_loss: 0.0604 - val_accuracy: 0.9770\n"
          ]
        }
      ],
      "source": [
        "history=model.fit(train_generator,validation_data=val_generator,epochs=5)"
      ]
    },
    {
      "cell_type": "code",
      "execution_count": null,
      "metadata": {
        "id": "55YyG7ktoo6L"
      },
      "outputs": [],
      "source": [
        "model.save(\"Model.h5\",\"label.txt\")"
      ]
    },
    {
      "cell_type": "code",
      "execution_count": null,
      "metadata": {
        "colab": {
          "base_uri": "https://localhost:8080/"
        },
        "id": "CcUVHZHIotws",
        "outputId": "a4d604b8-8894-436e-958f-a8d175d6c4a1"
      },
      "outputs": [
        {
          "name": "stdout",
          "output_type": "stream",
          "text": [
            "1/1 [==============================] - 0s 114ms/step\n",
            "Prediction:Tumor present(Probability: 0.9992754 )\n"
          ]
        }
      ],
      "source": [
        "from tensorflow.keras.models import load_model\n",
        "from tensorflow.keras.preprocessing import image\n",
        "import numpy as np\n",
        "\n",
        "#load the saved model\n",
        "model=load_model('/content/Model.h5')\n",
        "\n",
        "#load and preprocess the test image\n",
        "test_image_path='/content/drive/MyDrive/Brain_Tumor_Detection/Brain_Tumor_Detection/test/pred/pred14.jpg'\n",
        "img=image.load_img(test_image_path,target_size=(224,224))\n",
        "img_array=image.img_to_array(img)\n",
        "img_array=np.expand_dims(img_array,axis=0)\n",
        "img_array /=225 #normalize the pixal value\n",
        "#make predictions\n",
        "prediction=model.predict(img_array)\n",
        "#print the prediction\n",
        "if prediction < 0.5:\n",
        "  print(\"Prediction:No tumor(Probability:\",prediction[0][0],\")\")\n",
        "else:\n",
        "   print(\"Prediction:Tumor present(Probability:\",prediction[0][0],\")\")"
      ]
    }
  ],
  "metadata": {
    "colab": {
      "provenance": []
    },
    "kernelspec": {
      "display_name": "Python 3",
      "name": "python3"
    },
    "language_info": {
      "name": "python"
    }
  },
  "nbformat": 4,
  "nbformat_minor": 0
}
