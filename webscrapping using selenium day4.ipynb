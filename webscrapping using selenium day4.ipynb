{
 "cells": [
  {
   "cell_type": "markdown",
   "id": "665f7ee7",
   "metadata": {},
   "source": [
    "\n",
    "Extarcting dell laptops data from amazon.in website and saving it as.csv\n",
    "Name of the laptop,price,No of reviews.\n"
   ]
  },
  {
   "cell_type": "code",
   "execution_count": 52,
   "id": "d0178383",
   "metadata": {},
   "outputs": [
    {
     "name": "stdout",
     "output_type": "stream",
     "text": [
      "Requirement already satisfied: selenium in c:\\users\\valli\\anaconda3\\lib\\site-packages (4.17.2)\n",
      "Requirement already satisfied: urllib3[socks]<3,>=1.26 in c:\\users\\valli\\anaconda3\\lib\\site-packages (from selenium) (1.26.16)\n",
      "Requirement already satisfied: trio~=0.17 in c:\\users\\valli\\anaconda3\\lib\\site-packages (from selenium) (0.24.0)\n",
      "Requirement already satisfied: trio-websocket~=0.9 in c:\\users\\valli\\anaconda3\\lib\\site-packages (from selenium) (0.11.1)\n",
      "Requirement already satisfied: certifi>=2021.10.8 in c:\\users\\valli\\anaconda3\\lib\\site-packages (from selenium) (2023.7.22)\n",
      "Requirement already satisfied: typing_extensions>=4.9.0 in c:\\users\\valli\\anaconda3\\lib\\site-packages (from selenium) (4.9.0)\n",
      "Requirement already satisfied: attrs>=20.1.0 in c:\\users\\valli\\anaconda3\\lib\\site-packages (from trio~=0.17->selenium) (22.1.0)\n",
      "Requirement already satisfied: sortedcontainers in c:\\users\\valli\\anaconda3\\lib\\site-packages (from trio~=0.17->selenium) (2.4.0)\n",
      "Requirement already satisfied: idna in c:\\users\\valli\\anaconda3\\lib\\site-packages (from trio~=0.17->selenium) (3.4)\n",
      "Requirement already satisfied: outcome in c:\\users\\valli\\anaconda3\\lib\\site-packages (from trio~=0.17->selenium) (1.3.0.post0)\n",
      "Requirement already satisfied: sniffio>=1.3.0 in c:\\users\\valli\\anaconda3\\lib\\site-packages (from trio~=0.17->selenium) (1.3.0)\n",
      "Requirement already satisfied: cffi>=1.14 in c:\\users\\valli\\anaconda3\\lib\\site-packages (from trio~=0.17->selenium) (1.15.1)\n",
      "Requirement already satisfied: wsproto>=0.14 in c:\\users\\valli\\anaconda3\\lib\\site-packages (from trio-websocket~=0.9->selenium) (1.2.0)\n",
      "Requirement already satisfied: PySocks!=1.5.7,<2.0,>=1.5.6 in c:\\users\\valli\\anaconda3\\lib\\site-packages (from urllib3[socks]<3,>=1.26->selenium) (1.7.1)\n",
      "Requirement already satisfied: pycparser in c:\\users\\valli\\anaconda3\\lib\\site-packages (from cffi>=1.14->trio~=0.17->selenium) (2.21)\n",
      "Requirement already satisfied: h11<1,>=0.9.0 in c:\\users\\valli\\anaconda3\\lib\\site-packages (from wsproto>=0.14->trio-websocket~=0.9->selenium) (0.14.0)\n"
     ]
    }
   ],
   "source": [
    "!pip install selenium"
   ]
  },
  {
   "cell_type": "code",
   "execution_count": 53,
   "id": "1e63fdca",
   "metadata": {},
   "outputs": [
    {
     "name": "stdout",
     "output_type": "stream",
     "text": [
      "Requirement already satisfied: webdriver_manager in c:\\users\\valli\\anaconda3\\lib\\site-packages (4.0.1)\n",
      "Requirement already satisfied: requests in c:\\users\\valli\\anaconda3\\lib\\site-packages (from webdriver_manager) (2.31.0)\n",
      "Requirement already satisfied: python-dotenv in c:\\users\\valli\\anaconda3\\lib\\site-packages (from webdriver_manager) (0.21.0)\n",
      "Requirement already satisfied: packaging in c:\\users\\valli\\anaconda3\\lib\\site-packages (from webdriver_manager) (23.1)\n",
      "Requirement already satisfied: charset-normalizer<4,>=2 in c:\\users\\valli\\anaconda3\\lib\\site-packages (from requests->webdriver_manager) (2.0.4)\n",
      "Requirement already satisfied: idna<4,>=2.5 in c:\\users\\valli\\anaconda3\\lib\\site-packages (from requests->webdriver_manager) (3.4)\n",
      "Requirement already satisfied: urllib3<3,>=1.21.1 in c:\\users\\valli\\anaconda3\\lib\\site-packages (from requests->webdriver_manager) (1.26.16)\n",
      "Requirement already satisfied: certifi>=2017.4.17 in c:\\users\\valli\\anaconda3\\lib\\site-packages (from requests->webdriver_manager) (2023.7.22)\n"
     ]
    }
   ],
   "source": [
    "!pip install webdriver_manager"
   ]
  },
  {
   "cell_type": "code",
   "execution_count": 62,
   "id": "e81b46b8",
   "metadata": {},
   "outputs": [],
   "source": [
    "from webdriver_manager.chrome import ChromeDriverManager\n",
    "from selenium import webdriver\n",
    "from selenium.webdriver.chrome.options import Options\n",
    "from selenium.webdriver.common.by import By\n",
    "from selenium.webdriver.common.keys import Keys"
   ]
  },
  {
   "cell_type": "code",
   "execution_count": 63,
   "id": "dbe3bd07",
   "metadata": {},
   "outputs": [
    {
     "name": "stdout",
     "output_type": "stream",
     "text": [
      "chrome\n"
     ]
    }
   ],
   "source": [
    "options=webdriver.ChromeOptions() #define options and  set browser capabilities\n",
    "options.add_argument('--some-option')\n",
    "#create webdriver instance with options\n",
    "driver=webdriver.Chrome(options=options)\n",
    "#access browser capabilities\n",
    "browser_name=options.to_capabilities()['browserName']\n",
    "print(browser_name)"
   ]
  },
  {
   "cell_type": "code",
   "execution_count": 64,
   "id": "1a58a511",
   "metadata": {},
   "outputs": [],
   "source": [
    "driver.get('https://www.amazon.in/')"
   ]
  },
  {
   "cell_type": "code",
   "execution_count": 65,
   "id": "d2c1f62b",
   "metadata": {},
   "outputs": [],
   "source": [
    "search=driver.find_element(By.ID,\"twotabsearchtextbox\")"
   ]
  },
  {
   "cell_type": "code",
   "execution_count": 66,
   "id": "e8953081",
   "metadata": {},
   "outputs": [],
   "source": [
    "search.send_keys('Dell laptops')"
   ]
  },
  {
   "cell_type": "code",
   "execution_count": 67,
   "id": "b52a5b8d",
   "metadata": {},
   "outputs": [],
   "source": [
    "driver.find_element(By.ID,\"nav-search-submit-button\").click()\n"
   ]
  },
  {
   "cell_type": "code",
   "execution_count": 68,
   "id": "35e51c08",
   "metadata": {},
   "outputs": [],
   "source": [
    "driver.find_element(By.XPATH,\"//span[text()='Dell']\").click()"
   ]
  },
  {
   "cell_type": "code",
   "execution_count": 71,
   "id": "2f808169",
   "metadata": {},
   "outputs": [
    {
     "name": "stdout",
     "output_type": "stream",
     "text": [
      "['Dell 14 Laptop, AMD Ryzen R5-5500U/ 8GB DDR4, 2400 MHz/ 512GB/ 14.0\" (35.56cm) FHD Display with Comfort View/Windows 11 + MSO\\'21/15 Month McAfee/Spill-Resistant Keyboard/Carbon Black/ 1.48kg', 'Dell Inspiron 3520 Laptop, Intel Core i5-1235U Processor, 16GB,512GB,15.6\" (39.62cm) FHD Display, Backlit Keyboard, Win 11 + MSO\\'21,15 Month McAfee, Silver, Thin & Light-1.65kg', 'Dell Inspiron 3535 Laptop, AMD 7 Series Ryzen 5-7520U Processor/8GB/512GB/15.6\" (39.62cm) FHD WVA AG 120Hz 250 nits Display/Win 11 + MSO\\'21/15 Month McAfee/Platinum Silver/1.63kg', 'Dell 14 Laptop, 12th Gen Intel Core i5-1235U Processor, 16GB, 512GB, 14.0\" (35.56cm) FHD Display, Windows 11 + MSO\\'21, Spill-Resistant Keyboard, 15 Month Mcafee, Black, Thin & Light- 1.48kg', 'Dell 14 Laptop, 12th Gen Intel Core i3-1215U Processor/8GB/512GB SSD/Intel UHD Graphics/14.0\"(35.56cm) FHD/Windows 11 + MSO\\'21/15 Month McAfee/Spill-Resistant Keyboard/Grey/Thin & Light 1.48kg', 'Dell Inspiron 7430 2in1 Touch Laptop, 13th Gen Intel Core i3-1315U/8GB/1TB SSD/14.0\" (35.56cm) FHD+,16:10 Aspect Ratio/Backlit KB+FPR/Win 11+MSO\\'21/15 Months McAfee/Platinum Silver/Thin & Light-1.58kg', 'Dell 15 Laptop, Intel Core i5-1135G7 Processor/ 8GB/ 1TB+256GB SSD/15.6\"(39.62cm) FHD Display/Mobile Connect/Windows 11 + MSO\\'21/15 Month McAfee/Spill-Resistant Keyboard/Black/Thin & Light 1.69kg', 'Dell Inspiron 3530 Laptop, 13th Gen Intel Core i5-1335U Processor/16GB/1TB SSD/15.6\" (39.62cm) FHD Display/Backlit Keyboard/Platinum Silver/Win 11 + MSO\\'21/15 Month McAfee/Thin & Light- 1.66kg', 'Dell G15 5520 Gaming Laptop, Intel i5-12500H/16GB DDR5/1TB SSD/15.6\" (39.62cm) FHD WVA AG 120Hz 250 nits/NVIDIA RTX 3050, 4 GB GDDR6/Win 11 + MSO\\'21/15 Months McAfee/Backlit KB/Dark Shadow Grey/2.81kg', 'Dell 15 Laptop, Intel Core i3-1115G4 Processor/8GB DDR4/512GB SSD/Intel UHD Graphics/15.6\" (39.6cm) FHD 120Hz Refresh, 250 nits/Mobile Connect/Win 11+MSO\\'21/15 Month McAfee/Black/Thin & Light-1.66kg', 'Dell 14 Laptop, Intel Core i5-1135G7 Processor/8GB/512GB/Intel UHD Graphic/14.0\" (35.6cm) FHD with Comfort View/Spill-Resistant Keyboard/Thin & Light 1.48kg/ Win 11+ MSO\\'21/15 Month McAfee/Titan Grey', '(Renewed) DELL Latitude 5490 Core i5 8th Gen Laptop, 16 GB RAM, 512GB SSD, Intel HD Graphics, 14 inch (36.83 cms) HD Screen, Windows 11 (Upgraded), MS Office, Black, Slim', 'Dell 14, Intel 12th Gen i5-1235U Laptop/8GB/512GB SSD/14.0\" (35.56cm) FHD TÃœV Rheinland Certified Comfortview to Reduce Harmful Blue Light Emission/Windows 11 + MSO\\'21/Black/15 Month McAfee,1.48kg', 'Dell New 14\" Latitude 3420- i3 11th Gen || 8 GB || 512 GB SSD || 14\" Full HD 1920 x 1080 Pixels || Ubuntu-Dos || 1 Year Onsite with ADP Warranty', 'Dell Inspiron 5430 Laptop, 13th Gen Intel Core i7-1360P Processor/16GB/1TB SSD/14.0\" (35.56cm) FHD+ WVA 250 nits/Backlit KB + FPR/Win 11 + MSO\\'21/15 Month McAfee/Platinum Silver/Thin & Light- 1.59kg', 'Dell Inspiron 3530 Laptop, Intel Core i7-1355U Processor, 16GB, 512GB, 15.6\" (39.62cm) FHD WVA AG 120Hz, Backlit KB + FPR, Win 11 + MSO\\'21, 15 Month McAfee, Silver, 1.62kg', 'Dell New G15-5515 Gaming Laptop, AMD Ryzen5-5600H, Win 11 + MSO\\'21, 16Gb Gddr4, 512Gb SSD, Nvidia RTX 3050 (4Gb Gddr6), 15.6\" (39.62Cms) FHD AG 250 Nits 120Hz, Backlit KB Orange, 2.57Kgs', 'Dell 14 Premium Metal Laptop, AMD Ryzen 5-5625U, 16GB, 512GB, 14.0\" (35.56CM) FHD Display, Backlit KB + FPR, Win 11 + MSO\\'21, 15 Month McAfee, Dark Silver, Thin & Light-1.48kg', 'Dell Inspiron 3520 Laptop,12th Gen Intel Core i3-1215 Processor, 8GB, 512GB SSD, 15.6\" (39.62Cms FHD, Win 11 + MSO\\'21, Silver, 15 Month McAfee Antivirus, Thin & Light-1.65kg', 'Dell 14 Laptop, AMD Ryzen 5-5500U/ 8GB- 2 DIMM Slots (Expandable to 16GB)/ 512GB/ 14.0\" (35.56cm) FHD Display 250 Nits/Windows 11 + MSO\\'21/15 Month McAfee/AMD Radeon Graphics/Black/Thin & Light-1.48kg', 'Dell Inspiron 3520 Laptop, Intel Core i3-1215U Processor, 8GB & 256GB SSD, 15.6\" (39.62Cm) FHD WVA AG 120Hz 250 nits, Win 11 + MSO\\'21, Carbon Black, 15 Months McAfee, Thin & Light- 1.65KG', 'Dell G15-5530 Gaming Laptop, Intel Core i5-13450HX Processor, 16GB DDR5, 1TB, NVIDIA RTX 3050,6GB GDDR6, 15.6\" (39.62cm) FHD 120Hz 250 nits, Backlit KB Orange,Win 11 + MSO\\'21, Dark Shadow Gray, 2.65kg', 'Dell Inspiron 7430 2in1 Touch Laptop, Intel Core i5-1335U Processor/ 16GB LP DDR5/ 1TB SSD/14.0\" (35.56cm) FHD+/ Active Pen/Win 11 + MSO\\'21/15 Month McAfee/Platinum Silver/Thin & Light- 1.58kg', 'Dell Vostro 5620 Laptop, Intel Core i7-1260P Processor/ 16GB/ 512GB/ NVIDIA MX570 2GB GDDR6/ 16.0\" (40.64cm) FHD+ with 16:10 Aspect Ratio/Backlit KB + FPR/Win 11 + MSO\\'21/ Titan Grey/ 1.91kg']\n"
     ]
    }
   ],
   "source": [
    "names=driver.find_elements(By.XPATH,\"//span[@class='a-size-medium a-color-base a-text-normal']\")\n",
    "l_names=[i.text for i in names]\n",
    "print(l_names)"
   ]
  },
  {
   "cell_type": "code",
   "execution_count": 72,
   "id": "f7ccd11b",
   "metadata": {},
   "outputs": [
    {
     "name": "stdout",
     "output_type": "stream",
     "text": [
      "24\n"
     ]
    }
   ],
   "source": [
    "print(len(l_names))"
   ]
  },
  {
   "cell_type": "code",
   "execution_count": 74,
   "id": "625490f9",
   "metadata": {},
   "outputs": [
    {
     "name": "stdout",
     "output_type": "stream",
     "text": [
      "['34,990', '33,990', '35,990', '35,990', '55,280', '38,990', '49,990', '35,990', '57,990', '44,990', '67,490', '75,990', '33,990', '44,990', '23,649', '46,990', '30,630', '83,490', '71,490', '78,490', '50,490', '37,990', '37,817', '34,380', '81,490', '82,990', '87,490']\n"
     ]
    }
   ],
   "source": [
    "prices=driver.find_elements(By.XPATH,\"//span[@class='a-price-whole']\")\n",
    "l_price=[i.text for i in prices]\n",
    "print(l_price)"
   ]
  },
  {
   "cell_type": "code",
   "execution_count": 75,
   "id": "22292032",
   "metadata": {},
   "outputs": [
    {
     "name": "stdout",
     "output_type": "stream",
     "text": [
      "27\n"
     ]
    }
   ],
   "source": [
    "print(len(l_price))"
   ]
  },
  {
   "cell_type": "code",
   "execution_count": 83,
   "id": "3220dd48",
   "metadata": {},
   "outputs": [
    {
     "name": "stdout",
     "output_type": "stream",
     "text": [
      "['34,990', '33,990', '35,990', '35,990', '55,280', '38,990', '49,990', '35,990', '57,990', '44,990', '67,490', '75,990', '33,990', '44,990', '23,649', '46,990', '30,630', '83,490', '71,490', '78,490', '50,490', '37,990', '37,817', '34,380', '81,490', '82,990', '87,490']\n"
     ]
    }
   ],
   "source": [
    "print(l_price)"
   ]
  },
  {
   "cell_type": "code",
   "execution_count": 86,
   "id": "00b82ae1",
   "metadata": {},
   "outputs": [
    {
     "name": "stdout",
     "output_type": "stream",
     "text": [
      "['35,990', '55,280', '38,990', '49,990', '35,990', '57,990', '44,990', '67,490', '75,990', '33,990', '44,990', '23,649', '46,990', '30,630', '83,490', '71,490', '78,490', '50,490', '37,990', '37,817', '34,380', '81,490', '82,990', '87,490']\n"
     ]
    }
   ],
   "source": [
    "l_price.pop(0) #3 times repeated\n",
    "print(l_price)"
   ]
  },
  {
   "cell_type": "code",
   "execution_count": 76,
   "id": "d6256f19",
   "metadata": {},
   "outputs": [
    {
     "name": "stdout",
     "output_type": "stream",
     "text": [
      "['4', '2', '4', '72', '239', '179', '607', '13', '517', '631', '2', '506', '138', '1', '82', '1', '71', '1', '186', '151', '195', '11', '27', '7']\n"
     ]
    }
   ],
   "source": [
    "reviews=driver.find_elements(By.XPATH,\"//span[@class='a-size-base s-underline-text']\")\n",
    "l_reviews=[i.text for i in reviews]\n",
    "print(l_reviews)"
   ]
  },
  {
   "cell_type": "code",
   "execution_count": 87,
   "id": "dcee9b44",
   "metadata": {},
   "outputs": [
    {
     "name": "stdout",
     "output_type": "stream",
     "text": [
      "24\n"
     ]
    }
   ],
   "source": [
    "print(len(l_price))"
   ]
  },
  {
   "cell_type": "code",
   "execution_count": 77,
   "id": "179a23ce",
   "metadata": {},
   "outputs": [
    {
     "name": "stdout",
     "output_type": "stream",
     "text": [
      "24\n"
     ]
    }
   ],
   "source": [
    "print(len(l_reviews))"
   ]
  },
  {
   "cell_type": "code",
   "execution_count": 88,
   "id": "d22414d7",
   "metadata": {},
   "outputs": [],
   "source": [
    "headings=['Laptop','Price','Review']\n"
   ]
  },
  {
   "cell_type": "code",
   "execution_count": 89,
   "id": "c4615206",
   "metadata": {},
   "outputs": [],
   "source": [
    "import pandas as pd"
   ]
  },
  {
   "cell_type": "code",
   "execution_count": 90,
   "id": "1f6a768a",
   "metadata": {},
   "outputs": [
    {
     "name": "stdout",
     "output_type": "stream",
     "text": [
      "Empty DataFrame\n",
      "Columns: [Laptop, Price, Review]\n",
      "Index: []\n"
     ]
    }
   ],
   "source": [
    "df=pd.DataFrame(columns=headings)\n",
    "print(df)"
   ]
  },
  {
   "cell_type": "code",
   "execution_count": 92,
   "id": "3cfa9c53",
   "metadata": {},
   "outputs": [
    {
     "name": "stdout",
     "output_type": "stream",
     "text": [
      "                                               Laptop   Price Review\n",
      "0   Dell 14 Laptop, AMD Ryzen R5-5500U/ 8GB DDR4, ...  35,990      4\n",
      "1   Dell Inspiron 3520 Laptop, Intel Core i5-1235U...  55,280      2\n",
      "2   Dell Inspiron 3535 Laptop, AMD 7 Series Ryzen ...  38,990      4\n",
      "3   Dell 14 Laptop, 12th Gen Intel Core i5-1235U P...  49,990     72\n",
      "4   Dell 14 Laptop, 12th Gen Intel Core i3-1215U P...  35,990    239\n",
      "5   Dell Inspiron 7430 2in1 Touch Laptop, 13th Gen...  57,990    179\n",
      "6   Dell 15 Laptop, Intel Core i5-1135G7 Processor...  44,990    607\n",
      "7   Dell Inspiron 3530 Laptop, 13th Gen Intel Core...  67,490     13\n",
      "8   Dell G15 5520 Gaming Laptop, Intel i5-12500H/1...  75,990    517\n",
      "9   Dell 15 Laptop, Intel Core i3-1115G4 Processor...  33,990    631\n",
      "10  Dell 14 Laptop, Intel Core i5-1135G7 Processor...  44,990      2\n",
      "11  (Renewed) DELL Latitude 5490 Core i5 8th Gen L...  23,649    506\n",
      "12  Dell 14, Intel 12th Gen i5-1235U Laptop/8GB/51...  46,990    138\n",
      "13  Dell New 14\" Latitude 3420- i3 11th Gen || 8 G...  30,630      1\n",
      "14  Dell Inspiron 5430 Laptop, 13th Gen Intel Core...  83,490     82\n",
      "15  Dell Inspiron 3530 Laptop, Intel Core i7-1355U...  71,490      1\n",
      "16  Dell New G15-5515 Gaming Laptop, AMD Ryzen5-56...  78,490     71\n",
      "17  Dell 14 Premium Metal Laptop, AMD Ryzen 5-5625...  50,490      1\n",
      "18  Dell Inspiron 3520 Laptop,12th Gen Intel Core ...  37,990    186\n",
      "19  Dell 14 Laptop, AMD Ryzen 5-5500U/ 8GB- 2 DIMM...  37,817    151\n",
      "20  Dell Inspiron 3520 Laptop, Intel Core i3-1215U...  34,380    195\n",
      "21  Dell G15-5530 Gaming Laptop, Intel Core i5-134...  81,490     11\n",
      "22  Dell Inspiron 7430 2in1 Touch Laptop, Intel Co...  82,990     27\n",
      "23  Dell Vostro 5620 Laptop, Intel Core i7-1260P P...  87,490      7\n"
     ]
    }
   ],
   "source": [
    "df['Laptop']=l_names\n",
    "df['Price']=l_price\n",
    "df['Review']=l_reviews\n",
    "print(df)"
   ]
  },
  {
   "cell_type": "code",
   "execution_count": 93,
   "id": "0236e46d",
   "metadata": {},
   "outputs": [],
   "source": [
    "df.to_csv('laptop details.csv')"
   ]
  },
  {
   "cell_type": "code",
   "execution_count": null,
   "id": "7a95dddc",
   "metadata": {},
   "outputs": [],
   "source": []
  }
 ],
 "metadata": {
  "kernelspec": {
   "display_name": "Python 3 (ipykernel)",
   "language": "python",
   "name": "python3"
  },
  "language_info": {
   "codemirror_mode": {
    "name": "ipython",
    "version": 3
   },
   "file_extension": ".py",
   "mimetype": "text/x-python",
   "name": "python",
   "nbconvert_exporter": "python",
   "pygments_lexer": "ipython3",
   "version": "3.11.5"
  }
 },
 "nbformat": 4,
 "nbformat_minor": 5
}
